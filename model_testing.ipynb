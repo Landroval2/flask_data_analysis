{
 "cells": [
  {
   "cell_type": "code",
   "execution_count": 1,
   "metadata": {},
   "outputs": [
    {
     "name": "stdout",
     "output_type": "stream",
     "text": [
      "2022-02-21 11:50:28,882 loading file C:\\Users\\HP\\.flair\\models\\sentiment-en-mix-distillbert_4.pt\n"
     ]
    }
   ],
   "source": [
    "from flask import Flask, jsonify, request\n",
    "# from flask_cors import CORS\n",
    "from flask import session\n",
    "from flair.models import TextClassifier\n",
    "from flair.models import SequenceTagger\n",
    "from flair.data import Sentence\n",
    "import requests\n",
    "\n",
    "app = Flask(__name__)\n",
    "app.secret_key = \"super_secret_key\"\n",
    "# # app.config['SECRET_KEY'] = 'oh_so_secret'\n",
    "\n",
    "# app.config['MONGO_DBNAME'] = 'exposeModel'\n",
    "# app.config['MONGO_URI'] = 'mongodb://localhost:27017/exposeModel'\n",
    "# mongo = PyMongo(app)\n",
    "\n",
    "classifier = TextClassifier.load('sentiment')"
   ]
  },
  {
   "cell_type": "code",
   "execution_count": 7,
   "metadata": {},
   "outputs": [
    {
     "name": "stdout",
     "output_type": "stream",
     "text": [
      "Sentence: \"enormously entertaining for moviegoers of any age .\"   [− Tokens: 8  − Sentence-Labels: {'label': [POSITIVE (0.9976)]}]\n"
     ]
    }
   ],
   "source": [
    "# make example sentence\n",
    "sentence = Sentence(\"enormously entertaining for moviegoers of any age.\")\n",
    "\n",
    "# call predict\n",
    "classifier.predict(sentence)\n",
    "\n",
    "# check prediction\n",
    "print(sentence)"
   ]
  },
  {
   "cell_type": "code",
   "execution_count": 9,
   "metadata": {},
   "outputs": [
    {
     "name": "stdout",
     "output_type": "stream",
     "text": [
      "{'phrase': 'Worst movie ever, but best soundtrack i ever heard', 'score': 1.0, 'tag': 'NEGATIVE'}\n"
     ]
    }
   ],
   "source": [
    "# Making a prediction using requests library\n",
    "\n",
    "host = \"127.0.0.1\"\n",
    "port = 5000\n",
    "\n",
    "body = {\n",
    "    'input_text': \"Worst movie ever, but best soundtrack i ever heard\",\n",
    "    'model_type': 'classification'}\n",
    "\n",
    "resp=requests.post(url='http://{}:{}/predict'.format(host, port),\n",
    "                  json=body)\n",
    "print(resp.json())"
   ]
  },
  {
   "cell_type": "code",
   "execution_count": 61,
   "metadata": {},
   "outputs": [
    {
     "name": "stdout",
     "output_type": "stream",
     "text": [
      "2022-02-21 18:57:50,308 --------------------------------------------------------------------------------\n",
      "2022-02-21 18:57:50,309 The model key 'ner-fast' now maps to 'https://huggingface.co/flair/ner-english-fast' on the HuggingFace ModelHub\n",
      "2022-02-21 18:57:50,310  - The most current version of the model is automatically downloaded from there.\n",
      "2022-02-21 18:57:50,311  - (you can alternatively manually download the original model at https://nlp.informatik.hu-berlin.de/resources/models/ner-fast/en-ner-fast-conll03-v0.4.pt)\n",
      "2022-02-21 18:57:50,311 --------------------------------------------------------------------------------\n",
      "2022-02-21 18:57:51,142 loading file C:\\Users\\HP\\.flair\\models\\ner-english-fast\\4c58e7191ff952c030b82db25b3694b58800b0e722ff15427f527e1631ed6142.e13c7c4664ffe2bbfa8f1f5375bd0dced866b8c1dd7ff89a6d705518abf0a611\n"
     ]
    },
    {
     "data": {
      "text/plain": [
       "'George <B-PER> Washington <E-PER> went to Washington <S-LOC> .'"
      ]
     },
     "execution_count": 61,
     "metadata": {},
     "output_type": "execute_result"
    }
   ],
   "source": [
    "input_text = 'George Washington went to Washington.'\n",
    "sentence = Sentence(input_text)\n",
    "model = SequenceTagger.load('ner-fast')\n",
    "\n",
    "# # run classifier over sentence\n",
    "model.predict(sentence)\n",
    "\n",
    "#extract text and its prediction\n",
    "text = sentence.to_tagged_string()\n",
    "text"
   ]
  },
  {
   "cell_type": "code",
   "execution_count": 37,
   "metadata": {},
   "outputs": [
    {
     "name": "stdout",
     "output_type": "stream",
     "text": [
      "Span [1,2]: \"George Washington\"   [− Labels: PER (0.9989)]\n",
      "Span [5]: \"Washington\"   [− Labels: LOC (0.9942)]\n"
     ]
    }
   ],
   "source": [
    "for entity in sentence.get_spans('ner'):\n",
    "    print(entity)"
   ]
  },
  {
   "cell_type": "code",
   "execution_count": 65,
   "metadata": {},
   "outputs": [
    {
     "data": {
      "text/plain": [
       "\"{'text': 'George Washington went to Washington.', 'labels': [], 'entities': [{'text': 'George Washington', 'start_pos': 0, 'end_pos': 17, 'labels': [PER (0.997)]}, {'text': 'Washington', 'start_pos': 26, 'end_pos': 36, 'labels': [LOC (0.9985)]}]}\""
      ]
     },
     "execution_count": 65,
     "metadata": {},
     "output_type": "execute_result"
    }
   ],
   "source": [
    "pred = sentence.to_dict(tag_type='ner')\n",
    "pred.__str__()"
   ]
  },
  {
   "cell_type": "code",
   "execution_count": 75,
   "metadata": {},
   "outputs": [
    {
     "data": {
      "text/plain": [
       "'PER (0.997)'"
      ]
     },
     "execution_count": 75,
     "metadata": {},
     "output_type": "execute_result"
    }
   ],
   "source": [
    "str(pred['entities'][0]['labels'][0])"
   ]
  },
  {
   "cell_type": "code",
   "execution_count": 95,
   "metadata": {},
   "outputs": [],
   "source": [
    "# Making a prediction using requests library\n",
    "\n",
    "host = \"127.0.0.1\"\n",
    "port = 5000\n",
    "\n",
    "body = {\n",
    "    'input_text': 'George Washington went to Washington.',\n",
    "    'model_type': 'tagger'}\n",
    "\n",
    "resp=requests.post(url='http://{}:{}/predict'.format(host, port),\n",
    "                  json=body)"
   ]
  },
  {
   "cell_type": "code",
   "execution_count": 96,
   "metadata": {},
   "outputs": [
    {
     "data": {
      "text/plain": [
       "{'entities': [{'end_pos': 17,\n",
       "   'labels': '[PER (0.997)]',\n",
       "   'start_pos': 0,\n",
       "   'text': 'George Washington'},\n",
       "  {'end_pos': 36,\n",
       "   'labels': '[LOC (0.9985)]',\n",
       "   'start_pos': 26,\n",
       "   'text': 'Washington'}],\n",
       " 'labels': [],\n",
       " 'text': 'George Washington went to Washington.'}"
      ]
     },
     "execution_count": 96,
     "metadata": {},
     "output_type": "execute_result"
    }
   ],
   "source": [
    "resp.json()"
   ]
  },
  {
   "cell_type": "code",
   "execution_count": 80,
   "metadata": {},
   "outputs": [
    {
     "name": "stdout",
     "output_type": "stream",
     "text": [
      "2022-02-21 19:13:54,329 --------------------------------------------------------------------------------\n",
      "2022-02-21 19:13:54,329 The model key 'ner-fast' now maps to 'https://huggingface.co/flair/ner-english-fast' on the HuggingFace ModelHub\n",
      "2022-02-21 19:13:54,330  - The most current version of the model is automatically downloaded from there.\n",
      "2022-02-21 19:13:54,331  - (you can alternatively manually download the original model at https://nlp.informatik.hu-berlin.de/resources/models/ner-fast/en-ner-fast-conll03-v0.4.pt)\n",
      "2022-02-21 19:13:54,332 --------------------------------------------------------------------------------\n",
      "2022-02-21 19:13:55,174 loading file C:\\Users\\HP\\.flair\\models\\ner-english-fast\\4c58e7191ff952c030b82db25b3694b58800b0e722ff15427f527e1631ed6142.e13c7c4664ffe2bbfa8f1f5375bd0dced866b8c1dd7ff89a6d705518abf0a611\n"
     ]
    },
    {
     "data": {
      "text/plain": [
       "{'text': 'George Washington went to Washington.',\n",
       " 'labels': [],\n",
       " 'entities': [{'text': 'George Washington',\n",
       "   'start_pos': 0,\n",
       "   'end_pos': 17,\n",
       "   'labels': [PER (0.997)]},\n",
       "  {'text': 'Washington',\n",
       "   'start_pos': 26,\n",
       "   'end_pos': 36,\n",
       "   'labels': [LOC (0.9985)]}]}"
      ]
     },
     "execution_count": 80,
     "metadata": {},
     "output_type": "execute_result"
    }
   ],
   "source": [
    "from models.sequence_tagger import SequenceTagger\n",
    "\n",
    "input_text = 'George Washington went to Washington.'"
   ]
  },
  {
   "cell_type": "code",
   "execution_count": 84,
   "metadata": {},
   "outputs": [
    {
     "data": {
      "text/plain": [
       "{'text': 'George Washington went to Washington.',\n",
       " 'labels': [],\n",
       " 'entities': [{'text': 'George Washington',\n",
       "   'start_pos': 0,\n",
       "   'end_pos': 17,\n",
       "   'labels': [PER (0.997)]},\n",
       "  {'text': 'Washington',\n",
       "   'start_pos': 26,\n",
       "   'end_pos': 36,\n",
       "   'labels': [LOC (0.9985)]}]}"
      ]
     },
     "execution_count": 84,
     "metadata": {},
     "output_type": "execute_result"
    }
   ],
   "source": [
    "SequenceTagger.make_prediction(input_text)"
   ]
  },
  {
   "cell_type": "code",
   "execution_count": 91,
   "metadata": {},
   "outputs": [
    {
     "name": "stdout",
     "output_type": "stream",
     "text": [
      "[PER (0.997)]\n",
      "[LOC (0.9985)]\n"
     ]
    }
   ],
   "source": [
    "for span in sentence.get_spans('ner'):\n",
    "    print(span.to_dict()['labels'])"
   ]
  }
 ],
 "metadata": {
  "interpreter": {
   "hash": "ea8545188efcd5cfda3951200a260b49125988564278b380dd3e2547eac00e53"
  },
  "kernelspec": {
   "display_name": "Python 3.9.10 ('venv': venv)",
   "language": "python",
   "name": "python3"
  },
  "language_info": {
   "codemirror_mode": {
    "name": "ipython",
    "version": 3
   },
   "file_extension": ".py",
   "mimetype": "text/x-python",
   "name": "python",
   "nbconvert_exporter": "python",
   "pygments_lexer": "ipython3",
   "version": "3.9.10"
  },
  "orig_nbformat": 4
 },
 "nbformat": 4,
 "nbformat_minor": 2
}
