{
 "cells": [
  {
   "cell_type": "code",
   "execution_count": 4,
   "metadata": {},
   "outputs": [
    {
     "name": "stdout",
     "output_type": "stream",
     "text": [
      "2022-02-20 19:27:12,425 loading file C:\\Users\\HP\\.flair\\models\\sentiment-en-mix-distillbert_4.pt\n"
     ]
    }
   ],
   "source": [
    "from flask import Flask, jsonify, request\n",
    "# from flask_cors import CORS\n",
    "from flask import session\n",
    "from flair.models import TextClassifier\n",
    "from flair.data import Sentence\n",
    "import requests\n",
    "\n",
    "app = Flask(__name__)\n",
    "app.secret_key = \"super_secret_key\"\n",
    "# # app.config['SECRET_KEY'] = 'oh_so_secret'\n",
    "\n",
    "# app.config['MONGO_DBNAME'] = 'exposeModel'\n",
    "# app.config['MONGO_URI'] = 'mongodb://localhost:27017/exposeModel'\n",
    "# mongo = PyMongo(app)\n",
    "\n",
    "classifier = TextClassifier.load('sentiment')"
   ]
  },
  {
   "cell_type": "code",
   "execution_count": 3,
   "metadata": {},
   "outputs": [
    {
     "name": "stdout",
     "output_type": "stream",
     "text": [
      "Sentence: \"enormously entertaining for moviegoers of any age .\"   [− Tokens: 8  − Sentence-Labels: {'label': [POSITIVE (0.9976)]}]\n"
     ]
    }
   ],
   "source": [
    "# make example sentence\n",
    "sentence = Sentence(\"enormously entertaining for moviegoers of any age.\")\n",
    "\n",
    "# call predict\n",
    "classifier.predict(sentence)\n",
    "\n",
    "# check prediction\n",
    "print(sentence)"
   ]
  },
  {
   "cell_type": "code",
   "execution_count": 18,
   "metadata": {},
   "outputs": [
    {
     "name": "stdout",
     "output_type": "stream",
     "text": [
      "{'phrase': 'Greatest movie ever, but best soundtrack i ever heard', 'score': 1.0, 'tag': 'POSITIVE'}\n"
     ]
    }
   ],
   "source": [
    "# Making a prediction using requests library\n",
    "\n",
    "host = \"127.0.0.1\"\n",
    "port = 5000\n",
    "\n",
    "body = {'input_text': \"Greatest movie ever, but best soundtrack i ever heard\"}\n",
    "\n",
    "resp=requests.post(url='http://{}:{}/result'.format(host, port),\n",
    "                  json=body)\n",
    "print(resp.json())"
   ]
  },
  {
   "cell_type": "code",
   "execution_count": 14,
   "metadata": {},
   "outputs": [
    {
     "data": {
      "text/plain": [
       "'http://127.0.0.1:5000/results'"
      ]
     },
     "execution_count": 14,
     "metadata": {},
     "output_type": "execute_result"
    }
   ],
   "source": [
    "'http://{}:{}/results'.format(host, port)"
   ]
  },
  {
   "cell_type": "code",
   "execution_count": null,
   "metadata": {},
   "outputs": [],
   "source": []
  }
 ],
 "metadata": {
  "interpreter": {
   "hash": "ea8545188efcd5cfda3951200a260b49125988564278b380dd3e2547eac00e53"
  },
  "kernelspec": {
   "display_name": "Python 3.9.10 ('venv': venv)",
   "language": "python",
   "name": "python3"
  },
  "language_info": {
   "codemirror_mode": {
    "name": "ipython",
    "version": 3
   },
   "file_extension": ".py",
   "mimetype": "text/x-python",
   "name": "python",
   "nbconvert_exporter": "python",
   "pygments_lexer": "ipython3",
   "version": "3.9.10"
  },
  "orig_nbformat": 4
 },
 "nbformat": 4,
 "nbformat_minor": 2
}
