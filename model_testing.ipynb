{
 "cells": [
  {
   "cell_type": "code",
   "execution_count": 1,
   "metadata": {},
   "outputs": [
    {
     "name": "stdout",
     "output_type": "stream",
     "text": [
      "2022-02-20 12:41:13,310 https://nlp.informatik.hu-berlin.de/resources/models/sentiment-curated-distilbert/sentiment-en-mix-distillbert_4.pt not found in cache, downloading to C:\\Users\\HP\\AppData\\Local\\Temp\\tmpl5ey_hnc\n"
     ]
    },
    {
     "name": "stderr",
     "output_type": "stream",
     "text": [
      "100%|██████████| 265512723/265512723 [01:03<00:00, 4160885.15B/s]"
     ]
    },
    {
     "name": "stdout",
     "output_type": "stream",
     "text": [
      "2022-02-20 12:42:17,956 copying C:\\Users\\HP\\AppData\\Local\\Temp\\tmpl5ey_hnc to cache at C:\\Users\\HP\\.flair\\models\\sentiment-en-mix-distillbert_4.pt\n"
     ]
    },
    {
     "name": "stderr",
     "output_type": "stream",
     "text": [
      "\n"
     ]
    },
    {
     "name": "stdout",
     "output_type": "stream",
     "text": [
      "2022-02-20 12:42:18,198 removing temp file C:\\Users\\HP\\AppData\\Local\\Temp\\tmpl5ey_hnc\n",
      "2022-02-20 12:42:18,231 loading file C:\\Users\\HP\\.flair\\models\\sentiment-en-mix-distillbert_4.pt\n"
     ]
    },
    {
     "name": "stderr",
     "output_type": "stream",
     "text": [
      "Downloading: 100%|██████████| 28.0/28.0 [00:00<00:00, 14.0kB/s]\n",
      "Downloading: 100%|██████████| 226k/226k [00:00<00:00, 334kB/s]  \n",
      "Downloading: 100%|██████████| 455k/455k [00:00<00:00, 549kB/s]  \n",
      "Downloading: 100%|██████████| 483/483 [00:00<00:00, 240kB/s]\n"
     ]
    }
   ],
   "source": [
    "from flask import Flask, jsonify, request\n",
    "# from flask_cors import CORS\n",
    "from flask import session\n",
    "from flair.models import TextClassifier\n",
    "from flair.data import Sentence\n",
    "\n",
    "app = Flask(__name__)\n",
    "app.secret_key = \"super_secret_key\"\n",
    "# # app.config['SECRET_KEY'] = 'oh_so_secret'\n",
    "\n",
    "# app.config['MONGO_DBNAME'] = 'exposeModel'\n",
    "# app.config['MONGO_URI'] = 'mongodb://localhost:27017/exposeModel'\n",
    "# mongo = PyMongo(app)\n",
    "\n",
    "classifier = TextClassifier.load('sentiment')"
   ]
  },
  {
   "cell_type": "code",
   "execution_count": 3,
   "metadata": {},
   "outputs": [
    {
     "name": "stdout",
     "output_type": "stream",
     "text": [
      "Sentence: \"enormously entertaining for moviegoers of any age .\"   [− Tokens: 8  − Sentence-Labels: {'label': [POSITIVE (0.9976)]}]\n"
     ]
    }
   ],
   "source": [
    "# make example sentence\n",
    "sentence = Sentence(\"enormously entertaining for moviegoers of any age.\")\n",
    "\n",
    "# call predict\n",
    "classifier.predict(sentence)\n",
    "\n",
    "# check prediction\n",
    "print(sentence)"
   ]
  },
  {
   "cell_type": "code",
   "execution_count": null,
   "metadata": {},
   "outputs": [],
   "source": []
  }
 ],
 "metadata": {
  "interpreter": {
   "hash": "ea8545188efcd5cfda3951200a260b49125988564278b380dd3e2547eac00e53"
  },
  "kernelspec": {
   "display_name": "Python 3.9.10 ('venv': venv)",
   "language": "python",
   "name": "python3"
  },
  "language_info": {
   "codemirror_mode": {
    "name": "ipython",
    "version": 3
   },
   "file_extension": ".py",
   "mimetype": "text/x-python",
   "name": "python",
   "nbconvert_exporter": "python",
   "pygments_lexer": "ipython3",
   "version": "3.9.10"
  },
  "orig_nbformat": 4
 },
 "nbformat": 4,
 "nbformat_minor": 2
}
