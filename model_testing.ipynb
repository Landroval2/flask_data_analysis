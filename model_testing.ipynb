{
 "cells": [
  {
   "cell_type": "code",
   "execution_count": 6,
   "metadata": {},
   "outputs": [
    {
     "name": "stdout",
     "output_type": "stream",
     "text": [
      "2022-02-20 20:16:54,670 loading file C:\\Users\\HP\\.flair\\models\\sentiment-en-mix-distillbert_4.pt\n"
     ]
    }
   ],
   "source": [
    "from flask import Flask, jsonify, request\n",
    "# from flask_cors import CORS\n",
    "from flask import session\n",
    "from flair.models import TextClassifier\n",
    "from flair.data import Sentence\n",
    "import requests\n",
    "\n",
    "app = Flask(__name__)\n",
    "app.secret_key = \"super_secret_key\"\n",
    "# # app.config['SECRET_KEY'] = 'oh_so_secret'\n",
    "\n",
    "# app.config['MONGO_DBNAME'] = 'exposeModel'\n",
    "# app.config['MONGO_URI'] = 'mongodb://localhost:27017/exposeModel'\n",
    "# mongo = PyMongo(app)\n",
    "\n",
    "classifier = TextClassifier.load('sentiment')"
   ]
  },
  {
   "cell_type": "code",
   "execution_count": 7,
   "metadata": {},
   "outputs": [
    {
     "name": "stdout",
     "output_type": "stream",
     "text": [
      "Sentence: \"enormously entertaining for moviegoers of any age .\"   [− Tokens: 8  − Sentence-Labels: {'label': [POSITIVE (0.9976)]}]\n"
     ]
    }
   ],
   "source": [
    "# make example sentence\n",
    "sentence = Sentence(\"enormously entertaining for moviegoers of any age.\")\n",
    "\n",
    "# call predict\n",
    "classifier.predict(sentence)\n",
    "\n",
    "# check prediction\n",
    "print(sentence)"
   ]
  },
  {
   "cell_type": "code",
   "execution_count": 9,
   "metadata": {},
   "outputs": [
    {
     "name": "stdout",
     "output_type": "stream",
     "text": [
      "{'phrase': 'Worst movie ever, but best soundtrack i ever heard', 'score': 1.0, 'tag': 'NEGATIVE'}\n"
     ]
    }
   ],
   "source": [
    "# Making a prediction using requests library\n",
    "\n",
    "host = \"127.0.0.1\"\n",
    "port = 5000\n",
    "\n",
    "body = {\n",
    "    'input_text': \"Worst movie ever, but best soundtrack i ever heard\",\n",
    "    'model_type': 'classification'}\n",
    "\n",
    "resp=requests.post(url='http://{}:{}/result'.format(host, port),\n",
    "                  json=body)\n",
    "print(resp.json())"
   ]
  },
  {
   "cell_type": "code",
   "execution_count": 14,
   "metadata": {},
   "outputs": [
    {
     "data": {
      "text/plain": [
       "'http://127.0.0.1:5000/results'"
      ]
     },
     "execution_count": 14,
     "metadata": {},
     "output_type": "execute_result"
    }
   ],
   "source": [
    "'http://{}:{}/results'.format(host, port)"
   ]
  }
 ],
 "metadata": {
  "interpreter": {
   "hash": "ea8545188efcd5cfda3951200a260b49125988564278b380dd3e2547eac00e53"
  },
  "kernelspec": {
   "display_name": "Python 3.9.10 ('venv': venv)",
   "language": "python",
   "name": "python3"
  },
  "language_info": {
   "codemirror_mode": {
    "name": "ipython",
    "version": 3
   },
   "file_extension": ".py",
   "mimetype": "text/x-python",
   "name": "python",
   "nbconvert_exporter": "python",
   "pygments_lexer": "ipython3",
   "version": "3.9.10"
  },
  "orig_nbformat": 4
 },
 "nbformat": 4,
 "nbformat_minor": 2
}
